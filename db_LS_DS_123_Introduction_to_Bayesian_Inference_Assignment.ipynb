{
  "nbformat": 4,
  "nbformat_minor": 0,
  "metadata": {
    "colab": {
      "name": "db_LS_DS_123_Introduction_to_Bayesian_Inference_Assignment.ipynb",
      "provenance": [],
      "collapsed_sections": [],
      "include_colab_link": true
    },
    "kernelspec": {
      "name": "python3",
      "display_name": "Python 3"
    }
  },
  "cells": [
    {
      "cell_type": "markdown",
      "metadata": {
        "id": "view-in-github",
        "colab_type": "text"
      },
      "source": [
        "<a href=\"https://colab.research.google.com/github/Daniel-Benson-Poe/DS-Unit-1-Sprint-2-Statistics/blob/master/db_LS_DS_123_Introduction_to_Bayesian_Inference_Assignment.ipynb\" target=\"_parent\"><img src=\"https://colab.research.google.com/assets/colab-badge.svg\" alt=\"Open In Colab\"/></a>"
      ]
    },
    {
      "cell_type": "markdown",
      "metadata": {
        "id": "H7OLbevlbd_Z",
        "colab_type": "text"
      },
      "source": [
        "# Lambda School Data Science Module 123\n",
        "\n",
        "## Introduction to Bayesian Inference\n",
        "\n",
        "\n"
      ]
    },
    {
      "cell_type": "markdown",
      "metadata": {
        "id": "P-DzzRk5bf0z",
        "colab_type": "text"
      },
      "source": [
        "## Assignment - Code it up!\n",
        "\n",
        "We used pure math to apply Bayes Theorem to drug tests. Now write Python code to reproduce the results! This is purposefully open ended - you'll have to think about how you should represent probabilities and events. You can and should look things up.\n",
        "\n",
        "Specific goals/targets:\n",
        "\n",
        "### 1) Write a function \n",
        "\n",
        "`def prob_drunk_given_positive(prob_drunk_prior, false_positive_rate):` \n",
        "\n",
        "You should only truly need these two values in order to apply Bayes Theorem. In this example, imagine that individuals are taking a breathalyzer test with an 8% false positive rate, a 100% true positive rate, and that our prior belief about drunk driving in the population is 1/1000. \n",
        " - What is the probability that a person is drunk after one positive breathalyzer test?\n",
        " - What is the probability that a person is drunk after two positive breathalyzer tests?\n",
        " - How many positive breathalyzer tests are needed in order to have a probability that's greater than 95% that a person is drunk beyond the legal limit?\n",
        "\n",
        "### 2) Explore `scipy.stats.bayes_mvs`  \n",
        "Read its documentation, and experiment with it on data you've tested in other ways earlier this week.\n",
        " - Create a visualization comparing the results of a Bayesian approach to a traditional/frequentist approach. (with a large sample size they should look close to identical, however, take this opportunity to practice visualizing condfidence intervals in general. The following are some potential ways that you could visualize confidence intervals on your graph:\n",
        "  - [Matplotlib Error Bars](https://matplotlib.org/3.1.1/api/_as_gen/matplotlib.pyplot.errorbar.html)\n",
        "  - [Seaborn barplot with error bars](https://seaborn.pydata.org/generated/seaborn.barplot.html)\n",
        "  - [Vertical ines to show bounds of confidence interval](https://www.simplypsychology.org/confidence-interval.jpg)\n",
        "  - [Confidence Intervals on Box Plots](https://matplotlib.org/3.1.1/api/_as_gen/matplotlib.axes.Axes.boxplot.html)\n",
        "\n",
        "### 3) In your own words, summarize the difference between Bayesian and Frequentist statistics\n",
        "\n",
        "If you're unsure where to start, check out [this blog post of Bayes theorem with Python](https://dataconomy.com/2015/02/introduction-to-bayes-theorem-with-python/).\n",
        "\n"
      ]
    },
    {
      "cell_type": "markdown",
      "metadata": {
        "id": "242r_1yJXf1l",
        "colab_type": "text"
      },
      "source": [
        "# Part 1"
      ]
    },
    {
      "cell_type": "code",
      "metadata": {
        "id": "r4ms1FlFTf5v",
        "colab_type": "code",
        "colab": {}
      },
      "source": [
        "# Do usual imports\n",
        "import scipy.stats as stats\n",
        "from scipy.stats import ttest_ind, ttest_1samp, ttest_rel, t\n",
        "import pandas as pd\n",
        "import numpy as np\n",
        "import matplotlib.pyplot as plt\n",
        "import seaborn as sns"
      ],
      "execution_count": 0,
      "outputs": []
    },
    {
      "cell_type": "code",
      "metadata": {
        "id": "xpVhZyUnbf7o",
        "colab_type": "code",
        "colab": {}
      },
      "source": [
        "# Create our function\n",
        "def prob_drunk_given_positive(prob_drunk_prior, false_pos_rate):\n",
        "  P_drunk = prob_drunk_prior\n",
        "  P_sober = 1 - P_drunk\n",
        "  P_pos_given_drunk = 1\n",
        "  P_pos_given_sober = false_pos_rate\n",
        "  posterior_probability = (P_pos_given_drunk * P_drunk) / ((P_pos_given_drunk * P_drunk) + (P_pos_given_sober * P_sober))\n",
        "  return posterior_probability"
      ],
      "execution_count": 0,
      "outputs": []
    },
    {
      "cell_type": "code",
      "metadata": {
        "id": "3mUpdI3YTZIL",
        "colab_type": "code",
        "colab": {
          "base_uri": "https://localhost:8080/",
          "height": 33
        },
        "outputId": "312722a7-dec5-4444-cd3c-f27cab82f606"
      },
      "source": [
        "# Test one with prior equal to 1/1000; probability is about 1.2%\n",
        "prob_drunk_given_positive(1/1000, 0.08)"
      ],
      "execution_count": 7,
      "outputs": [
        {
          "output_type": "execute_result",
          "data": {
            "text/plain": [
              "0.012357884330202669"
            ]
          },
          "metadata": {
            "tags": []
          },
          "execution_count": 7
        }
      ]
    },
    {
      "cell_type": "code",
      "metadata": {
        "id": "CBTIUC38TZFT",
        "colab_type": "code",
        "colab": {
          "base_uri": "https://localhost:8080/",
          "height": 33
        },
        "outputId": "29e9f3e5-030f-43aa-cf90-298ede4d8e61"
      },
      "source": [
        "# Second test with prior equal to 0.012357884330202669; probability about 13.5%\n",
        "prob_drunk_given_positive(0.012357884330202669, 0.08)"
      ],
      "execution_count": 8,
      "outputs": [
        {
          "output_type": "execute_result",
          "data": {
            "text/plain": [
              "0.13525210993291495"
            ]
          },
          "metadata": {
            "tags": []
          },
          "execution_count": 8
        }
      ]
    },
    {
      "cell_type": "code",
      "metadata": {
        "id": "ERRsw3OJTZDo",
        "colab_type": "code",
        "colab": {}
      },
      "source": [
        "# Create a function we can use to determine how many tests are required to reach \n",
        "# 95% or above probability given our prior and false_positive  rate\n",
        "def drug_tests_required(prior, false_pos):\n",
        "  test_number = 0\n",
        "  test_probability = prior\n",
        "  while test_probability < 0.95:\n",
        "    test_probability = prob_drunk_given_positive(test_probability, false_pos)\n",
        "    test_number += 1\n",
        "  return test_number"
      ],
      "execution_count": 0,
      "outputs": []
    },
    {
      "cell_type": "code",
      "metadata": {
        "id": "v3QKJVdKTZA1",
        "colab_type": "code",
        "colab": {
          "base_uri": "https://localhost:8080/",
          "height": 33
        },
        "outputId": "d19bd8e2-a9d5-4345-8cd1-48016825622f"
      },
      "source": [
        "# Let's run this function on our problem above to find out how many tests it \n",
        "# would take to reach 95% or above probabliity\n",
        "drug_tests_required(1/1000, 0.08)"
      ],
      "execution_count": 12,
      "outputs": [
        {
          "output_type": "execute_result",
          "data": {
            "text/plain": [
              "4"
            ]
          },
          "metadata": {
            "tags": []
          },
          "execution_count": 12
        }
      ]
    },
    {
      "cell_type": "code",
      "metadata": {
        "id": "wST5p-PFTY91",
        "colab_type": "code",
        "colab": {
          "base_uri": "https://localhost:8080/",
          "height": 33
        },
        "outputId": "b2b7c714-e778-4e11-f11b-f25c7af03f25"
      },
      "source": [
        "# Our function tells us that it would take 4 tests to reach above 95%. Let's \n",
        "# test that out the long way to ensure it is correct. \n",
        "prior_val = 1/1000\n",
        "rate = 0.08\n",
        "probability_list = []\n",
        "for _ in range(0,4):\n",
        "  prior_val = prob_drunk_given_positive(prior_val, rate)\n",
        "  probability_list.append(prior_val)\n",
        "\n",
        "print(probability_list)"
      ],
      "execution_count": 14,
      "outputs": [
        {
          "output_type": "stream",
          "text": [
            "[0.012357884330202669, 0.13525210993291495, 0.6615996951348605, 0.9606895076105054]\n"
          ],
          "name": "stdout"
        }
      ]
    },
    {
      "cell_type": "code",
      "metadata": {
        "id": "loirowR7TY8T",
        "colab_type": "code",
        "colab": {}
      },
      "source": [
        "# As we can see, that returns us a value above 95% (96% in this case) so we \n",
        "# know that our function works."
      ],
      "execution_count": 0,
      "outputs": []
    },
    {
      "cell_type": "markdown",
      "metadata": {
        "id": "Nx_0IwlBXcPF",
        "colab_type": "text"
      },
      "source": [
        "# Part 2"
      ]
    },
    {
      "cell_type": "code",
      "metadata": {
        "id": "PNjCc06BTY5D",
        "colab_type": "code",
        "colab": {}
      },
      "source": [
        "# It's time to explore scipy and compare Bayesian results to previously\n",
        "# determined frequentist results\n",
        "url = 'https://archive.ics.uci.edu/ml/machine-learning-databases/voting-records/house-votes-84.data'\n",
        "house_columns = ['party', 'handicapped-infants', 'water-project-cost-sharing', \n",
        "           'adoption-of-the-budget-resolution', 'physician-fee-freeze', \n",
        "           'el-salvador-aid', 'religious-groups-in-schools', \n",
        "           'anti-satellite-test-ban', 'aid-to-nicaraguan-contras', 'mx-missile',\n",
        "           'immigration', 'synfuels-corporation-cutback', 'education-spending',\n",
        "           'superfund-right-to-sue', 'crime', 'duty-free-exports', \n",
        "           'export-administration-act-south-africa']"
      ],
      "execution_count": 0,
      "outputs": []
    },
    {
      "cell_type": "code",
      "metadata": {
        "id": "zUhLuDzOTY2V",
        "colab_type": "code",
        "colab": {
          "base_uri": "https://localhost:8080/",
          "height": 223
        },
        "outputId": "3d57e44c-83dd-44c7-8280-7893d09015d3"
      },
      "source": [
        "# Read in data and turn objects into numbers\n",
        "df = pd.read_csv(url, header=None, names=house_columns, na_values='?')\n",
        "df = df.replace({'y':1, 'n':0})\n",
        "df.head()"
      ],
      "execution_count": 19,
      "outputs": [
        {
          "output_type": "execute_result",
          "data": {
            "text/html": [
              "<div>\n",
              "<style scoped>\n",
              "    .dataframe tbody tr th:only-of-type {\n",
              "        vertical-align: middle;\n",
              "    }\n",
              "\n",
              "    .dataframe tbody tr th {\n",
              "        vertical-align: top;\n",
              "    }\n",
              "\n",
              "    .dataframe thead th {\n",
              "        text-align: right;\n",
              "    }\n",
              "</style>\n",
              "<table border=\"1\" class=\"dataframe\">\n",
              "  <thead>\n",
              "    <tr style=\"text-align: right;\">\n",
              "      <th></th>\n",
              "      <th>party</th>\n",
              "      <th>handicapped-infants</th>\n",
              "      <th>water-project-cost-sharing</th>\n",
              "      <th>adoption-of-the-budget-resolution</th>\n",
              "      <th>physician-fee-freeze</th>\n",
              "      <th>el-salvador-aid</th>\n",
              "      <th>religious-groups-in-schools</th>\n",
              "      <th>anti-satellite-test-ban</th>\n",
              "      <th>aid-to-nicaraguan-contras</th>\n",
              "      <th>mx-missile</th>\n",
              "      <th>immigration</th>\n",
              "      <th>synfuels-corporation-cutback</th>\n",
              "      <th>education-spending</th>\n",
              "      <th>superfund-right-to-sue</th>\n",
              "      <th>crime</th>\n",
              "      <th>duty-free-exports</th>\n",
              "      <th>export-administration-act-south-africa</th>\n",
              "    </tr>\n",
              "  </thead>\n",
              "  <tbody>\n",
              "    <tr>\n",
              "      <th>0</th>\n",
              "      <td>republican</td>\n",
              "      <td>0.0</td>\n",
              "      <td>1.0</td>\n",
              "      <td>0.0</td>\n",
              "      <td>1.0</td>\n",
              "      <td>1.0</td>\n",
              "      <td>1.0</td>\n",
              "      <td>0.0</td>\n",
              "      <td>0.0</td>\n",
              "      <td>0.0</td>\n",
              "      <td>1.0</td>\n",
              "      <td>NaN</td>\n",
              "      <td>1.0</td>\n",
              "      <td>1.0</td>\n",
              "      <td>1.0</td>\n",
              "      <td>0.0</td>\n",
              "      <td>1.0</td>\n",
              "    </tr>\n",
              "    <tr>\n",
              "      <th>1</th>\n",
              "      <td>republican</td>\n",
              "      <td>0.0</td>\n",
              "      <td>1.0</td>\n",
              "      <td>0.0</td>\n",
              "      <td>1.0</td>\n",
              "      <td>1.0</td>\n",
              "      <td>1.0</td>\n",
              "      <td>0.0</td>\n",
              "      <td>0.0</td>\n",
              "      <td>0.0</td>\n",
              "      <td>0.0</td>\n",
              "      <td>0.0</td>\n",
              "      <td>1.0</td>\n",
              "      <td>1.0</td>\n",
              "      <td>1.0</td>\n",
              "      <td>0.0</td>\n",
              "      <td>NaN</td>\n",
              "    </tr>\n",
              "    <tr>\n",
              "      <th>2</th>\n",
              "      <td>democrat</td>\n",
              "      <td>NaN</td>\n",
              "      <td>1.0</td>\n",
              "      <td>1.0</td>\n",
              "      <td>NaN</td>\n",
              "      <td>1.0</td>\n",
              "      <td>1.0</td>\n",
              "      <td>0.0</td>\n",
              "      <td>0.0</td>\n",
              "      <td>0.0</td>\n",
              "      <td>0.0</td>\n",
              "      <td>1.0</td>\n",
              "      <td>0.0</td>\n",
              "      <td>1.0</td>\n",
              "      <td>1.0</td>\n",
              "      <td>0.0</td>\n",
              "      <td>0.0</td>\n",
              "    </tr>\n",
              "    <tr>\n",
              "      <th>3</th>\n",
              "      <td>democrat</td>\n",
              "      <td>0.0</td>\n",
              "      <td>1.0</td>\n",
              "      <td>1.0</td>\n",
              "      <td>0.0</td>\n",
              "      <td>NaN</td>\n",
              "      <td>1.0</td>\n",
              "      <td>0.0</td>\n",
              "      <td>0.0</td>\n",
              "      <td>0.0</td>\n",
              "      <td>0.0</td>\n",
              "      <td>1.0</td>\n",
              "      <td>0.0</td>\n",
              "      <td>1.0</td>\n",
              "      <td>0.0</td>\n",
              "      <td>0.0</td>\n",
              "      <td>1.0</td>\n",
              "    </tr>\n",
              "    <tr>\n",
              "      <th>4</th>\n",
              "      <td>democrat</td>\n",
              "      <td>1.0</td>\n",
              "      <td>1.0</td>\n",
              "      <td>1.0</td>\n",
              "      <td>0.0</td>\n",
              "      <td>1.0</td>\n",
              "      <td>1.0</td>\n",
              "      <td>0.0</td>\n",
              "      <td>0.0</td>\n",
              "      <td>0.0</td>\n",
              "      <td>0.0</td>\n",
              "      <td>1.0</td>\n",
              "      <td>NaN</td>\n",
              "      <td>1.0</td>\n",
              "      <td>1.0</td>\n",
              "      <td>1.0</td>\n",
              "      <td>1.0</td>\n",
              "    </tr>\n",
              "  </tbody>\n",
              "</table>\n",
              "</div>"
            ],
            "text/plain": [
              "        party  ...  export-administration-act-south-africa\n",
              "0  republican  ...                                     1.0\n",
              "1  republican  ...                                     NaN\n",
              "2    democrat  ...                                     0.0\n",
              "3    democrat  ...                                     1.0\n",
              "4    democrat  ...                                     1.0\n",
              "\n",
              "[5 rows x 17 columns]"
            ]
          },
          "metadata": {
            "tags": []
          },
          "execution_count": 19
        }
      ]
    },
    {
      "cell_type": "code",
      "metadata": {
        "id": "6-3ns8LdTY0M",
        "colab_type": "code",
        "colab": {
          "base_uri": "https://localhost:8080/",
          "height": 50
        },
        "outputId": "7d07aeff-dca6-4218-829a-d3e899ef8321"
      },
      "source": [
        "# Seperate the data into republic and democrat groups\n",
        "rep = df[df['party']=='republican']\n",
        "dem = df[df['party']=='democrat']\n",
        "print(rep.shape)\n",
        "print(dem.shape)"
      ],
      "execution_count": 22,
      "outputs": [
        {
          "output_type": "stream",
          "text": [
            "(168, 17)\n",
            "(267, 17)\n"
          ],
          "name": "stdout"
        }
      ]
    },
    {
      "cell_type": "code",
      "metadata": {
        "id": "YNupWROxTYw8",
        "colab_type": "code",
        "colab": {}
      },
      "source": [
        "# Create our confidence interval function # Create our confidence interval \n",
        "def confidence_interval(data, confidence=0.95):\n",
        "  \"\"\"\n",
        "  Calculate confidence interval using a sample mean from specified data.\n",
        "  Uses t-distribution and 2-tailed test with a default confidence of 0.95\n",
        "\n",
        "  Arguments: \n",
        "  data - iterable (list or numpy array) of sample observations\n",
        "  confidence - confidence level for the interval\n",
        "\n",
        "  Return:\n",
        "  tuple (mean, lower-bound, upper-bound)\n",
        "  \"\"\"\n",
        "  data = np.array(data) # Sets data into numpy array\n",
        "  mean = np.nanmean(data) # Creates a mean of the data, ignoring nan values\n",
        "  n = len(data) # Sets n to the length of the data\n",
        "  stderr = np.nanstd(data, ddof=1)/np.sqrt(n) # Creates our standard deviation error ignoring nan values\n",
        "  moe = stderr * stats.t.ppf((1 + confidence) / 2.0, n-1) # Looks up corresponding t-stat\n",
        "  return (mean, mean-moe, mean+moe)"
      ],
      "execution_count": 0,
      "outputs": []
    },
    {
      "cell_type": "code",
      "metadata": {
        "id": "VrAE_mxGZFHv",
        "colab_type": "code",
        "colab": {}
      },
      "source": [
        "# Let's also create some functions that can deal with our nan values \n",
        "# prior to using the Bayesian approach\n",
        "def rep_column(column):\n",
        "  rep_col = rep[column]\n",
        "  rep_no_nans = rep_col[~np.isnan(rep_col)]\n",
        "  return rep_no_nans\n",
        "\n",
        "def dem_column(column):\n",
        "  dem_col = dem[column]\n",
        "  dem_no_nans = dem_col[~np.isnan(dem_col)]\n",
        "  return dem_no_nans"
      ],
      "execution_count": 0,
      "outputs": []
    },
    {
      "cell_type": "code",
      "metadata": {
        "id": "EL-esC6kTYua",
        "colab_type": "code",
        "colab": {
          "base_uri": "https://localhost:8080/",
          "height": 33
        },
        "outputId": "144ff7aa-7c94-40f0-e6e9-dbbee08f1e18"
      },
      "source": [
        "# Now let's look at the handicapped infants columns using frequentist approach\n",
        "rep_inf_conf = confidence_interval(rep['handicapped-infants'])\n",
        "rep_inf_conf"
      ],
      "execution_count": 31,
      "outputs": [
        {
          "output_type": "execute_result",
          "data": {
            "text/plain": [
              "(0.18787878787878787, 0.12819979769991746, 0.24755777805765827)"
            ]
          },
          "metadata": {
            "tags": []
          },
          "execution_count": 31
        }
      ]
    },
    {
      "cell_type": "code",
      "metadata": {
        "id": "g4JSQAu6ZEoV",
        "colab_type": "code",
        "colab": {}
      },
      "source": [
        "# Let's deal with our nan values now\n",
        "rep_inf_no_nans = rep_column('handicapped-infants')"
      ],
      "execution_count": 0,
      "outputs": []
    },
    {
      "cell_type": "code",
      "metadata": {
        "id": "OzG3VVPjTYr9",
        "colab_type": "code",
        "colab": {
          "base_uri": "https://localhost:8080/",
          "height": 33
        },
        "outputId": "f7743130-cae1-4593-c1da-c86496389a28"
      },
      "source": [
        "# Now look at it using the Bayesian approach:\n",
        "rep_inf_bayes = stats.bayes_mvs(rep_inf_no_nans, alpha=.95)[0][1]\n",
        "rep_inf_bayes"
      ],
      "execution_count": 32,
      "outputs": [
        {
          "output_type": "execute_result",
          "data": {
            "text/plain": [
              "(0.12765166444807918, 0.24810591130949655)"
            ]
          },
          "metadata": {
            "tags": []
          },
          "execution_count": 32
        }
      ]
    },
    {
      "cell_type": "code",
      "metadata": {
        "id": "jNWNNg14TYpD",
        "colab_type": "code",
        "colab": {
          "base_uri": "https://localhost:8080/",
          "height": 265
        },
        "outputId": "a03a4968-332a-4d18-8969-b6e68bb474c1"
      },
      "source": [
        "# Now visualize this comparison\n",
        "sns.kdeplot(rep_inf_no_nans)\n",
        "plt.axvline(rep_inf_conf[1], color='red')\n",
        "plt.axvline(rep_inf_conf[2], color='red')\n",
        "plt.axvline(rep_inf_bayes[0], color='green')\n",
        "plt.axvline(rep_inf_bayes[1], color='green')\n",
        "plt.axvline(rep_inf_conf[0], color='k')\n",
        "plt.xlim(0.12, 0.26); # Zooms in to the frequentist and bayesian lower and upper bounds for easier comparison"
      ],
      "execution_count": 35,
      "outputs": [
        {
          "output_type": "display_data",
          "data": {
            "image/png": "[encoded data removed]",
            "text/plain": [
              "<Figure size 432x288 with 1 Axes>"
            ]
          },
          "metadata": {
            "tags": []
          }
        }
      ]
    },
    {
      "cell_type": "code",
      "metadata": {
        "id": "g1e0_laSTYnJ",
        "colab_type": "code",
        "colab": {
          "base_uri": "https://localhost:8080/",
          "height": 33
        },
        "outputId": "2c950151-3d96-4182-a8a5-50d97c54db37"
      },
      "source": [
        "# Let's visualize the democrats' support now!\n",
        "# First the frequentist approach:\n",
        "dem_inf_conf = confidence_interval(dem['handicapped-infants'])\n",
        "dem_inf_conf"
      ],
      "execution_count": 36,
      "outputs": [
        {
          "output_type": "execute_result",
          "data": {
            "text/plain": [
              "(0.6046511627906976, 0.5456230466811521, 0.6636792789002431)"
            ]
          },
          "metadata": {
            "tags": []
          },
          "execution_count": 36
        }
      ]
    },
    {
      "cell_type": "code",
      "metadata": {
        "id": "C8AVJMvFTYkI",
        "colab_type": "code",
        "colab": {
          "base_uri": "https://localhost:8080/",
          "height": 33
        },
        "outputId": "5a09186d-0a4c-4396-a108-4081c4557741"
      },
      "source": [
        "# Deal with nulls for the Bayesian approach\n",
        "dem_inf_no_nans = dem_column('handicapped-infants')\n",
        "dem_inf_no_nans.isnull().sum()"
      ],
      "execution_count": 37,
      "outputs": [
        {
          "output_type": "execute_result",
          "data": {
            "text/plain": [
              "0"
            ]
          },
          "metadata": {
            "tags": []
          },
          "execution_count": 37
        }
      ]
    },
    {
      "cell_type": "code",
      "metadata": {
        "id": "azoxdYZaTYiW",
        "colab_type": "code",
        "colab": {
          "base_uri": "https://localhost:8080/",
          "height": 33
        },
        "outputId": "ff373a82-7e8a-49ec-abb8-cee735eb19fb"
      },
      "source": [
        "# Bayesian approach:\n",
        "dem_inf_bayes = stats.bayes_mvs(dem_inf_no_nans, alpha=.95)[0][1]\n",
        "dem_inf_bayes"
      ],
      "execution_count": 38,
      "outputs": [
        {
          "output_type": "execute_result",
          "data": {
            "text/plain": [
              "(0.5445926997425515, 0.6647096258388437)"
            ]
          },
          "metadata": {
            "tags": []
          },
          "execution_count": 38
        }
      ]
    },
    {
      "cell_type": "code",
      "metadata": {
        "id": "jM_AdM9FTYe6",
        "colab_type": "code",
        "colab": {
          "base_uri": "https://localhost:8080/",
          "height": 265
        },
        "outputId": "f5b0c88e-24c5-4845-f4e5-026b6216801f"
      },
      "source": [
        "# Now let's visualize that!\n",
        "sns.kdeplot(dem_inf_no_nans)\n",
        "plt.axvline(dem_inf_conf[1], color='red')\n",
        "plt.axvline(dem_inf_conf[2], color='red')\n",
        "plt.axvline(dem_inf_bayes[0], color='green')\n",
        "plt.axvline(dem_inf_bayes[1], color='green')\n",
        "plt.axvline(dem_inf_conf[0], color='k')\n",
        "plt.xlim(0.54, 0.67); # Zooms in to get a better visualization of the lower bounds, upper bounds, and the mean\n"
      ],
      "execution_count": 53,
      "outputs": [
        {
          "output_type": "display_data",
          "data": {
            "image/png": "[encoded data removed]",
            "text/plain": [
              "<Figure size 432x288 with 1 Axes>"
            ]
          },
          "metadata": {
            "tags": []
          }
        }
      ]
    },
    {
      "cell_type": "markdown",
      "metadata": {
        "id": "ci09PorEfMz3",
        "colab_type": "text"
      },
      "source": [
        "# Let's try that with a different dataset now!"
      ]
    },
    {
      "cell_type": "code",
      "metadata": {
        "id": "5zSUJhr2TYdC",
        "colab_type": "code",
        "colab": {
          "base_uri": "https://localhost:8080/",
          "height": 191
        },
        "outputId": "11de7e4a-7e9f-464c-d26e-e9a0c48594ea"
      },
      "source": [
        "# Let's try the titanic dataset\n",
        "url = 'https://raw.githubusercontent.com/austinlasseter/pandas_visualization/master/data/titanic.csv'\n",
        "df = pd.read_csv(url)\n",
        "df.head()"
      ],
      "execution_count": 54,
      "outputs": [
        {
          "output_type": "execute_result",
          "data": {
            "text/html": [
              "<div>\n",
              "<style scoped>\n",
              "    .dataframe tbody tr th:only-of-type {\n",
              "        vertical-align: middle;\n",
              "    }\n",
              "\n",
              "    .dataframe tbody tr th {\n",
              "        vertical-align: top;\n",
              "    }\n",
              "\n",
              "    .dataframe thead th {\n",
              "        text-align: right;\n",
              "    }\n",
              "</style>\n",
              "<table border=\"1\" class=\"dataframe\">\n",
              "  <thead>\n",
              "    <tr style=\"text-align: right;\">\n",
              "      <th></th>\n",
              "      <th>Survived</th>\n",
              "      <th>Pclass</th>\n",
              "      <th>Sex</th>\n",
              "      <th>Age</th>\n",
              "      <th>Fare</th>\n",
              "      <th>Embarked</th>\n",
              "    </tr>\n",
              "  </thead>\n",
              "  <tbody>\n",
              "    <tr>\n",
              "      <th>0</th>\n",
              "      <td>0</td>\n",
              "      <td>3</td>\n",
              "      <td>male</td>\n",
              "      <td>22.0</td>\n",
              "      <td>7.2500</td>\n",
              "      <td>Southampton</td>\n",
              "    </tr>\n",
              "    <tr>\n",
              "      <th>1</th>\n",
              "      <td>1</td>\n",
              "      <td>1</td>\n",
              "      <td>female</td>\n",
              "      <td>38.0</td>\n",
              "      <td>71.2833</td>\n",
              "      <td>Cherbourg</td>\n",
              "    </tr>\n",
              "    <tr>\n",
              "      <th>2</th>\n",
              "      <td>1</td>\n",
              "      <td>3</td>\n",
              "      <td>female</td>\n",
              "      <td>26.0</td>\n",
              "      <td>7.9250</td>\n",
              "      <td>Southampton</td>\n",
              "    </tr>\n",
              "    <tr>\n",
              "      <th>3</th>\n",
              "      <td>1</td>\n",
              "      <td>1</td>\n",
              "      <td>female</td>\n",
              "      <td>35.0</td>\n",
              "      <td>53.1000</td>\n",
              "      <td>Southampton</td>\n",
              "    </tr>\n",
              "    <tr>\n",
              "      <th>4</th>\n",
              "      <td>0</td>\n",
              "      <td>3</td>\n",
              "      <td>male</td>\n",
              "      <td>35.0</td>\n",
              "      <td>8.0500</td>\n",
              "      <td>Southampton</td>\n",
              "    </tr>\n",
              "  </tbody>\n",
              "</table>\n",
              "</div>"
            ],
            "text/plain": [
              "   Survived  Pclass     Sex   Age     Fare     Embarked\n",
              "0         0       3    male  22.0   7.2500  Southampton\n",
              "1         1       1  female  38.0  71.2833    Cherbourg\n",
              "2         1       3  female  26.0   7.9250  Southampton\n",
              "3         1       1  female  35.0  53.1000  Southampton\n",
              "4         0       3    male  35.0   8.0500  Southampton"
            ]
          },
          "metadata": {
            "tags": []
          },
          "execution_count": 54
        }
      ]
    },
    {
      "cell_type": "code",
      "metadata": {
        "id": "f9zx7cNuTYZe",
        "colab_type": "code",
        "colab": {
          "base_uri": "https://localhost:8080/",
          "height": 131
        },
        "outputId": "023eb0c7-3ae5-4924-8f9c-95f78b731397"
      },
      "source": [
        "# Check for null\n",
        "df.isnull().sum()"
      ],
      "execution_count": 55,
      "outputs": [
        {
          "output_type": "execute_result",
          "data": {
            "text/plain": [
              "Survived    0\n",
              "Pclass      0\n",
              "Sex         0\n",
              "Age         0\n",
              "Fare        0\n",
              "Embarked    0\n",
              "dtype: int64"
            ]
          },
          "metadata": {
            "tags": []
          },
          "execution_count": 55
        }
      ]
    },
    {
      "cell_type": "code",
      "metadata": {
        "id": "Qm05WgStfUrp",
        "colab_type": "code",
        "colab": {
          "base_uri": "https://localhost:8080/",
          "height": 700
        },
        "outputId": "c0dd7936-fe7b-45be-c49a-cf0e9795fdda"
      },
      "source": [
        "# Seperate into different classes\n",
        "first_class = df[df['Pclass']==1]\n",
        "second_class = df[df['Pclass']==2]\n",
        "third_class = df[df['Pclass']==3]\n",
        "print(first_class)\n",
        "print(second_class)\n",
        "print(third_class)"
      ],
      "execution_count": 56,
      "outputs": [
        {
          "output_type": "stream",
          "text": [
            "     Survived  Pclass     Sex   Age     Fare     Embarked\n",
            "1           1       1  female  38.0  71.2833    Cherbourg\n",
            "3           1       1  female  35.0  53.1000  Southampton\n",
            "5           0       1    male  54.0  51.8625  Southampton\n",
            "10          1       1  female  58.0  26.5500  Southampton\n",
            "20          1       1    male  28.0  35.5000  Southampton\n",
            "..        ...     ...     ...   ...      ...          ...\n",
            "694         1       1  female  47.0  52.5542  Southampton\n",
            "695         0       1    male  33.0   5.0000  Southampton\n",
            "701         1       1  female  56.0  83.1583    Cherbourg\n",
            "709         1       1  female  19.0  30.0000  Southampton\n",
            "710         1       1    male  26.0  30.0000    Cherbourg\n",
            "\n",
            "[184 rows x 6 columns]\n",
            "     Survived  Pclass     Sex   Age     Fare     Embarked\n",
            "8           1       2  female  14.0  30.0708    Cherbourg\n",
            "14          1       2  female  55.0  16.0000  Southampton\n",
            "17          0       2    male  35.0  26.0000  Southampton\n",
            "18          1       2    male  34.0  13.0000  Southampton\n",
            "25          0       2    male  66.0  10.5000  Southampton\n",
            "..        ...     ...     ...   ...      ...          ...\n",
            "690         1       2  female  27.0  13.8583    Cherbourg\n",
            "697         1       2  female  28.0  24.0000    Cherbourg\n",
            "702         1       2  female  25.0  26.0000  Southampton\n",
            "705         0       2    male  28.0  10.5000  Southampton\n",
            "708         0       2    male  27.0  13.0000  Southampton\n",
            "\n",
            "[173 rows x 6 columns]\n",
            "     Survived  Pclass     Sex   Age     Fare     Embarked\n",
            "0           0       3    male  22.0   7.2500  Southampton\n",
            "2           1       3  female  26.0   7.9250  Southampton\n",
            "4           0       3    male  35.0   8.0500  Southampton\n",
            "6           0       3    male   2.0  21.0750  Southampton\n",
            "7           1       3  female  27.0  11.1333  Southampton\n",
            "..        ...     ...     ...   ...      ...          ...\n",
            "703         0       3    male  33.0   7.8958  Southampton\n",
            "704         0       3  female  22.0  10.5167  Southampton\n",
            "706         0       3    male  25.0   7.0500  Southampton\n",
            "707         0       3  female  39.0  29.1250   Queenstown\n",
            "711         0       3    male  32.0   7.7500   Queenstown\n",
            "\n",
            "[355 rows x 6 columns]\n"
          ],
          "name": "stdout"
        }
      ]
    },
    {
      "cell_type": "code",
      "metadata": {
        "id": "rZ8KpZ7yfUoJ",
        "colab_type": "code",
        "colab": {}
      },
      "source": [
        "# View only the survived column\n",
        "survived_first_class = first_class['Survived'].values\n",
        "survived_second_class = second_class['Survived'].values\n",
        "survived_third_class = third_class['Survived'].values"
      ],
      "execution_count": 0,
      "outputs": []
    },
    {
      "cell_type": "code",
      "metadata": {
        "id": "lzsIDhkffUk7",
        "colab_type": "code",
        "colab": {}
      },
      "source": [
        "# Find the confidence interval of each survived class\n",
        "survived_first_conf = confidence_interval(survived_first_class)\n",
        "survived_second_conf = confidence_interval(survived_second_class)\n",
        "survived_third_conf = confidence_interval(survived_third_class)"
      ],
      "execution_count": 0,
      "outputs": []
    },
    {
      "cell_type": "code",
      "metadata": {
        "id": "cdkzo70YfUhu",
        "colab_type": "code",
        "colab": {
          "base_uri": "https://localhost:8080/",
          "height": 33
        },
        "outputId": "18b900a6-ae0a-4b71-bf24-61731bd19875"
      },
      "source": [
        "# Look at the first class confidence interval\n",
        "survived_first_conf"
      ],
      "execution_count": 60,
      "outputs": [
        {
          "output_type": "execute_result",
          "data": {
            "text/plain": [
              "(0.6521739130434783, 0.5827087674767211, 0.7216390586102355)"
            ]
          },
          "metadata": {
            "tags": []
          },
          "execution_count": 60
        }
      ]
    },
    {
      "cell_type": "code",
      "metadata": {
        "id": "_G5fnCiTfUeG",
        "colab_type": "code",
        "colab": {
          "base_uri": "https://localhost:8080/",
          "height": 33
        },
        "outputId": "e69d78ae-14be-4023-d012-2c02fcb6ecc2"
      },
      "source": [
        "# Look at that using Bayesian \n",
        "survived_first_bayes = stats.bayes_mvs(survived_first_class, alpha=.95)[0][1]\n",
        "survived_first_bayes"
      ],
      "execution_count": 61,
      "outputs": [
        {
          "output_type": "execute_result",
          "data": {
            "text/plain": [
              "(0.5827087674767211, 0.7216390586102355)"
            ]
          },
          "metadata": {
            "tags": []
          },
          "execution_count": 61
        }
      ]
    },
    {
      "cell_type": "code",
      "metadata": {
        "id": "uJ9AdCZffUZ1",
        "colab_type": "code",
        "colab": {
          "base_uri": "https://localhost:8080/",
          "height": 265
        },
        "outputId": "7849c9f4-ad78-44f5-f107-9ee4442a7ee2"
      },
      "source": [
        "# Look at this graphically\n",
        "sns.kdeplot(survived_first_class)\n",
        "plt.axvline(survived_first_conf[1], color='red')\n",
        "plt.axvline(survived_first_conf[2], color='red')\n",
        "plt.axvline(survived_first_bayes[0], color='green')\n",
        "plt.axvline(survived_first_bayes[1], color='green')\n",
        "plt.axvline(survived_first_conf[0], color='k')\n",
        "plt.xlim(0.58, 0.73);\n",
        "# The CI and Bayesian values are exactly the same in this instance\n",
        "# The null value is not found between the lower and upper bounds so given the \n",
        "# data we could safely reject the null hypothesis"
      ],
      "execution_count": 63,
      "outputs": [
        {
          "output_type": "display_data",
          "data": {
            "image/png": "[encoded data removed]",
            "text/plain": [
              "<Figure size 432x288 with 1 Axes>"
            ]
          },
          "metadata": {
            "tags": []
          }
        }
      ]
    },
    {
      "cell_type": "code",
      "metadata": {
        "id": "i3rjliWHfUVu",
        "colab_type": "code",
        "colab": {
          "base_uri": "https://localhost:8080/",
          "height": 33
        },
        "outputId": "40f002f0-9622-4904-f2d9-247419b401e2"
      },
      "source": [
        "# Now for second class\n",
        "survived_second_conf = confidence_interval(survived_second_class)\n",
        "survived_second_conf"
      ],
      "execution_count": 64,
      "outputs": [
        {
          "output_type": "execute_result",
          "data": {
            "text/plain": [
              "(0.4797687861271676, 0.4045780048126607, 0.5549595674416745)"
            ]
          },
          "metadata": {
            "tags": []
          },
          "execution_count": 64
        }
      ]
    },
    {
      "cell_type": "code",
      "metadata": {
        "id": "N0Ifx82rfUQi",
        "colab_type": "code",
        "colab": {
          "base_uri": "https://localhost:8080/",
          "height": 33
        },
        "outputId": "c939172f-dc48-49fa-9fb3-14eedfd4d83a"
      },
      "source": [
        "# And Bayesian\n",
        "survived_second_bayes = stats.bayes_mvs(survived_second_class, alpha=.95)[0][1]\n",
        "survived_second_bayes"
      ],
      "execution_count": 65,
      "outputs": [
        {
          "output_type": "execute_result",
          "data": {
            "text/plain": [
              "(0.4045780048126607, 0.5549595674416745)"
            ]
          },
          "metadata": {
            "tags": []
          },
          "execution_count": 65
        }
      ]
    },
    {
      "cell_type": "code",
      "metadata": {
        "id": "c-ROS1EagpHd",
        "colab_type": "code",
        "colab": {
          "base_uri": "https://localhost:8080/",
          "height": 265
        },
        "outputId": "8b18bc3e-6e67-4722-9d92-2fc0ac6ef423"
      },
      "source": [
        "# Now graph it\n",
        "sns.kdeplot(survived_second_class)\n",
        "plt.axvline(survived_second_conf[1], color='red')\n",
        "plt.axvline(survived_second_conf[2], color='red')\n",
        "plt.axvline(survived_second_bayes[0], color='green')\n",
        "plt.axvline(survived_second_bayes[1], color='green')\n",
        "plt.axvline(survived_second_conf[0], color='k');\n",
        "plt.xlim(.40, .56);\n",
        "# Null value of 0.5 is found between the lower-bound and upper-bound\n",
        "# values, so we would be unable to reject the null hypothesis given \n",
        "# this data"
      ],
      "execution_count": 68,
      "outputs": [
        {
          "output_type": "display_data",
          "data": {
            "image/png": "[encoded data removed]",
            "text/plain": [
              "<Figure size 432x288 with 1 Axes>"
            ]
          },
          "metadata": {
            "tags": []
          }
        }
      ]
    },
    {
      "cell_type": "code",
      "metadata": {
        "id": "w-nC6gK4gpDr",
        "colab_type": "code",
        "colab": {
          "base_uri": "https://localhost:8080/",
          "height": 33
        },
        "outputId": "2ae50f3b-5978-422b-a4e3-974d4cb59c0b"
      },
      "source": [
        "# Finally third class\n",
        "survived_third_conf = confidence_interval(survived_third_class)\n",
        "survived_third_conf"
      ],
      "execution_count": 69,
      "outputs": [
        {
          "output_type": "execute_result",
          "data": {
            "text/plain": [
              "(0.23943661971830985, 0.19483025758052033, 0.2840429818560994)"
            ]
          },
          "metadata": {
            "tags": []
          },
          "execution_count": 69
        }
      ]
    },
    {
      "cell_type": "code",
      "metadata": {
        "id": "cM-Kcz76gpB2",
        "colab_type": "code",
        "colab": {
          "base_uri": "https://localhost:8080/",
          "height": 33
        },
        "outputId": "689e562e-6890-466f-955f-0f4cca44ffd0"
      },
      "source": [
        "# Bayesian\n",
        "survived_third_bayes = stats.bayes_mvs(survived_third_class, alpha=.95)[0][1]\n",
        "survived_third_bayes"
      ],
      "execution_count": 70,
      "outputs": [
        {
          "output_type": "execute_result",
          "data": {
            "text/plain": [
              "(0.19483025758052033, 0.2840429818560994)"
            ]
          },
          "metadata": {
            "tags": []
          },
          "execution_count": 70
        }
      ]
    },
    {
      "cell_type": "code",
      "metadata": {
        "id": "KYULFYV0go_a",
        "colab_type": "code",
        "colab": {
          "base_uri": "https://localhost:8080/",
          "height": 265
        },
        "outputId": "47b41bae-a5f1-42a9-8cd6-3a800359c5b6"
      },
      "source": [
        "# Compare this graphically\n",
        "sns.kdeplot(survived_third_class)\n",
        "plt.axvline(survived_third_conf[1], color='red')\n",
        "plt.axvline(survived_third_conf[2], color='red')\n",
        "plt.axvline(survived_third_bayes[0], color='green')\n",
        "plt.axvline(survived_third_bayes[1], color='green')\n",
        "plt.axvline(survived_third_conf[0], color='k');\n",
        "plt.xlim(.19, .29);"
      ],
      "execution_count": 72,
      "outputs": [
        {
          "output_type": "display_data",
          "data": {
            "image/png": "[encoded data removed]",
            "text/plain": [
              "<Figure size 432x288 with 1 Axes>"
            ]
          },
          "metadata": {
            "tags": []
          }
        }
      ]
    },
    {
      "cell_type": "markdown",
      "metadata": {
        "id": "GF0Dq0uvjCH5",
        "colab_type": "text"
      },
      "source": [
        "# Part 3:\n",
        "\n",
        "The differences between the frequentist approach and the Bayesian mainly revolve around each one's use of probability. The frequentist approach generally uses samples to determin probability. Bayesian does also use sampling, but it also extends beyond to more general models, including taking prior samples and values into account. "
      ]
    },
    {
      "cell_type": "markdown",
      "metadata": {
        "id": "GP7Jv1XvwtkX",
        "colab_type": "text"
      },
      "source": [
        "## Stretch Goals:\n",
        "\n",
        "- Go back and study the content from Modules 1 & 2 to make sure that you're really comfortable with them.\n",
        "- Apply a Bayesian technique to a problem you previously worked (in an assignment or project work) on from a frequentist (standard) perspective\n",
        "- Check out [PyMC3](https://docs.pymc.io/) (note this goes beyond hypothesis tests into modeling) - read the guides and work through some examples\n",
        "- Take PyMC3 further - see if you can build something with it!"
      ]
    },
    {
      "cell_type": "markdown",
      "metadata": {
        "id": "Yv__R2N0jsBF",
        "colab_type": "text"
      },
      "source": [
        "##PyMC3"
      ]
    },
    {
      "cell_type": "code",
      "metadata": {
        "id": "iDi0eFr1x-v_",
        "colab_type": "code",
        "colab": {}
      },
      "source": [
        ""
      ],
      "execution_count": 0,
      "outputs": []
    }
  ]
}